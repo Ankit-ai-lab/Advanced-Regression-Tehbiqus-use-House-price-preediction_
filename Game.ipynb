{
  "nbformat": 4,
  "nbformat_minor": 0,
  "metadata": {
    "colab": {
      "provenance": [],
      "authorship_tag": "ABX9TyNUvWL6pXeA44/xDG3xRIDe",
      "include_colab_link": true
    },
    "kernelspec": {
      "name": "python3",
      "display_name": "Python 3"
    },
    "language_info": {
      "name": "python"
    }
  },
  "cells": [
    {
      "cell_type": "markdown",
      "metadata": {
        "id": "view-in-github",
        "colab_type": "text"
      },
      "source": [
        "<a href=\"https://colab.research.google.com/github/Ankit-ai-lab/Advanced-Regression-Tehbiqus-use-House-price-preediction_/blob/main/Game.ipynb\" target=\"_parent\"><img src=\"https://colab.research.google.com/assets/colab-badge.svg\" alt=\"Open In Colab\"/></a>"
      ]
    },
    {
      "cell_type": "code",
      "execution_count": 29,
      "metadata": {
        "colab": {
          "base_uri": "https://localhost:8080/"
        },
        "id": "tNPcF4Pee9zP",
        "outputId": "70ae7534-8058-4bdd-a19a-ab993ff4d0ab"
      },
      "outputs": [
        {
          "output_type": "stream",
          "name": "stdout",
          "text": [
            "Starting Level 3\n",
            "Encounter: Dragon\n",
            "Player 1 attacks Dragon with <__main__.Weapon object at 0x7c7ba6ba0490>!\n",
            "Player 2 attacks Dragon with <__main__.Weapon object at 0x7c7ba6ba1570>!\n"
          ]
        }
      ],
      "source": [
        "class Avatar:\n",
        "    def __init__(self, name, weapon):\n",
        "        self.name = name\n",
        "        self.weapon = weapon\n",
        "\n",
        "    def attack(self, target):\n",
        "        print(f\"{self.name} attacks {target.name} with {self.weapon}!\")\n",
        "\n",
        "class Weapon:\n",
        "    def __init__(self, name, damage):\n",
        "        self.name = name\n",
        "        self.damage = damage\n",
        "\n",
        "class Animal:\n",
        "    def __init__(self, name):\n",
        "        self.name = name\n",
        "\n",
        "class Game:\n",
        "    def __init__(self):\n",
        "        self.levels = 5\n",
        "        self.avatars = []\n",
        "        self.weapons = []\n",
        "        self.current_level = 3\n",
        "        self.current_animal = 'ELefent'\n",
        "        #self.current_animal = None\n",
        "\n",
        "    def create_avatar(self, name, weapon_name, weapon_damage):\n",
        "        weapon = Weapon(weapon_name, weapon_damage)\n",
        "        avatar = Avatar(name, weapon)\n",
        "        self.avatars.append(avatar)\n",
        "\n",
        "    def create_weapon(self, name, damage):\n",
        "        weapon = Weapon(name, damage)\n",
        "        self.weapons.append(weapon)\n",
        "\n",
        "    def create_animal(self, name):\n",
        "        self.current_animal = Animal(name)\n",
        "\n",
        "    def start_level(self):\n",
        "        if self.current_level <= self.levels:\n",
        "            print(f\"Starting Level {self.current_level}\")\n",
        "            print(f\"Encounter: {self.current_animal.name}\")\n",
        "            for avatar in self.avatars:\n",
        "                avatar.attack(self.current_animal)\n",
        "            self.current_level += 1\n",
        "        else:\n",
        "            print(\"Game Over. All levels completed!\")\n",
        "\n",
        "# Example usage:\n",
        "game = Game()\n",
        "game.create_avatar(\"Player 1\", \"Sword\", 10)\n",
        "game.create_avatar(\"Player 2\", \"Axe\", 15)\n",
        "game.create_weapon(\"Magic Staff\", 20)\n",
        "game.create_animal(\"Dragon\")\n",
        "\n",
        "game.start_level()\n"
      ]
    },
    {
      "cell_type": "code",
      "source": [
        "if game.current_animal is not None:\n",
        "    print(f\"Current Animal Name: {game.current_animal.name}\")\n",
        "else:\n",
        "    print(\"No current animal set.\")\n"
      ],
      "metadata": {
        "colab": {
          "base_uri": "https://localhost:8080/"
        },
        "id": "rxMqWucSfFy3",
        "outputId": "ff4759ec-64a4-42bc-b382-a7d1cc3ec106"
      },
      "execution_count": 30,
      "outputs": [
        {
          "output_type": "stream",
          "name": "stdout",
          "text": [
            "Current Animal Name: Dragon\n"
          ]
        }
      ]
    },
    {
      "cell_type": "code",
      "source": [
        "if game.current_animal is not None:\n",
        "  print(f\"current Animal name: {game.current_animal.name}\")\n",
        "else:\n",
        "  print(\"No current animal set\")"
      ],
      "metadata": {
        "colab": {
          "base_uri": "https://localhost:8080/"
        },
        "id": "ikF_FnJjfQ_X",
        "outputId": "9a06be7f-a54d-485f-df5b-4f9d94093510"
      },
      "execution_count": 31,
      "outputs": [
        {
          "output_type": "stream",
          "name": "stdout",
          "text": [
            "current Animal name: Dragon\n"
          ]
        }
      ]
    },
    {
      "cell_type": "code",
      "source": [
        "first_avatar = game.avatars[0]"
      ],
      "metadata": {
        "id": "lz8N1ZEqgdWc"
      },
      "execution_count": 25,
      "outputs": []
    },
    {
      "cell_type": "code",
      "source": [
        "print(first_avatar.name)"
      ],
      "metadata": {
        "colab": {
          "base_uri": "https://localhost:8080/"
        },
        "id": "lGxRP4sEgdX8",
        "outputId": "b83d5f0d-f011-4375-aa6f-ac16797ea083"
      },
      "execution_count": 26,
      "outputs": [
        {
          "output_type": "stream",
          "name": "stdout",
          "text": [
            "Player 1\n"
          ]
        }
      ]
    },
    {
      "cell_type": "code",
      "source": [
        "# Access the second weapon and print its name and damage\n",
        "second_weapon = game.weapons[0]\n",
        "print(f\"Second Weapon Name: {second_weapon.name}, Damage: {second_weapon.damage}\")\n"
      ],
      "metadata": {
        "colab": {
          "base_uri": "https://localhost:8080/"
        },
        "id": "mqjX6Y60gdb8",
        "outputId": "2f1c78ca-3ded-45ad-c279-0aa75a6449c6"
      },
      "execution_count": 27,
      "outputs": [
        {
          "output_type": "stream",
          "name": "stdout",
          "text": [
            "Second Weapon Name: Magic Staff, Damage: 20\n"
          ]
        }
      ]
    },
    {
      "cell_type": "code",
      "source": [
        "class Avatar:\n",
        "    def __init__(self, name, weapon):\n",
        "        self.name = name\n",
        "        self.weapon = weapon\n",
        "\n",
        "    def attack(self, target):\n",
        "        print(f\"{self.name} attacks {target.name} with {self.weapon}!\")\n",
        "\n",
        "# Example usage:\n",
        "avatar1 = Avatar(\"Player 1\", \"Sword\")\n",
        "avatar2 = Avatar(\"Player 2\", \"Axe\")\n",
        "\n",
        "# Assuming you have a target (an instance of Animal, for example)\n",
        "target = Animal(\"Dragon\")\n",
        "\n",
        "# Avatar 1 attacks the target\n",
        "avatar1.attack(target)\n"
      ],
      "metadata": {
        "colab": {
          "base_uri": "https://localhost:8080/"
        },
        "id": "mO3ZUcLxfr8t",
        "outputId": "6792469a-26e9-47bc-d3f6-ffc1f50cf30c"
      },
      "execution_count": 28,
      "outputs": [
        {
          "output_type": "stream",
          "name": "stdout",
          "text": [
            "Player 1 attacks Dragon with Sword!\n"
          ]
        }
      ]
    },
    {
      "cell_type": "code",
      "source": [],
      "metadata": {
        "id": "-djZvRP1heZO"
      },
      "execution_count": 21,
      "outputs": []
    }
  ]
}